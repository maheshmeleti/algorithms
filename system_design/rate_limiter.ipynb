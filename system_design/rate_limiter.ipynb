{
 "cells": [
  {
   "cell_type": "code",
   "execution_count": 1,
   "id": "a1c7d46c-837b-4322-a160-74b1247e6b51",
   "metadata": {},
   "outputs": [],
   "source": [
    "import time\n",
    "from collections import deque"
   ]
  },
  {
   "cell_type": "code",
   "execution_count": 3,
   "id": "357ca7c1-ed21-41a0-8f64-e51db0f0c7dd",
   "metadata": {},
   "outputs": [
    {
     "name": "stdout",
     "output_type": "stream",
     "text": [
      "0.0\n",
      "10\n",
      "True\n",
      "0.014375448226928711\n",
      "9.014375448226929\n",
      "True\n",
      "0.015001535415649414\n",
      "8.029376983642578\n",
      "True\n",
      "0.015000104904174805\n",
      "7.044377088546753\n",
      "True\n",
      "0.014997720718383789\n",
      "6.059374809265137\n",
      "True\n",
      "0.01500082015991211\n",
      "5.074375629425049\n",
      "True\n",
      "0.014999866485595703\n",
      "4.0893754959106445\n",
      "True\n",
      "0.015003442764282227\n",
      "3.1043789386749268\n",
      "True\n",
      "0.015523910522460938\n",
      "2.1199028491973877\n",
      "True\n",
      "0.015002012252807617\n",
      "1.1349048614501953\n",
      "True\n",
      "0.014999151229858398\n",
      "0.1499040126800537\n",
      "False\n",
      "0.015000343322753906\n",
      "0.16490435600280762\n",
      "False\n",
      "0.014999866485595703\n",
      "0.17990422248840332\n",
      "False\n",
      "0.015001058578491211\n",
      "0.19490528106689453\n",
      "False\n",
      "0.015012025833129883\n",
      "0.20991730690002441\n",
      "False\n"
     ]
    }
   ],
   "source": [
    "#token bucket\n",
    "class TokenBucket:\n",
    "    def __init__(self, capacity, fill_rate):\n",
    "        self.capacity = capacity\n",
    "        self.fill_rate = fill_rate\n",
    "        self.tokens = capacity\n",
    "        self.last_time = time.time()\n",
    "    \n",
    "    def allow_request(self, tokens=1):\n",
    "        now = time.time()\n",
    "        time_passed = now - self.last_time\n",
    "        print(time_passed)\n",
    "        self.tokens = min(self.capacity, self.tokens + time_passed*self.fill_rate)\n",
    "        print(self.tokens)\n",
    "        self.last_time = now\n",
    "        \n",
    "        if self.tokens >= tokens:\n",
    "            self.tokens -= tokens\n",
    "            return True\n",
    "        return False\n",
    "\n",
    "limiter = TokenBucket(capacity=10, fill_rate=1)\n",
    "\n",
    "for _ in range(15):\n",
    "    print(limiter.allow_request())\n",
    "    time.sleep(0.001)"
   ]
  },
  {
   "cell_type": "code",
   "execution_count": 20,
   "id": "416be433-f2d7-47b2-815a-9aa64ffb1389",
   "metadata": {},
   "outputs": [],
   "source": [
    "#leaky bucket\n",
    "\n",
    "class LeakyBucket:\n",
    "    def __init__(self, capacity, leak_rate):\n",
    "        self.capacity = capacity\n",
    "        self.leak_rate = leak_rate\n",
    "        self.bucket = deque()\n",
    "        self.last_leak = time.time()\n",
    "    \n",
    "    def allow_request(self):\n",
    "        now = time.time()\n",
    "        leak_time = now - "
   ]
  },
  {
   "cell_type": "code",
   "execution_count": null,
   "id": "eb65b6c3-7404-416b-b7e4-18d1ec0a5eaa",
   "metadata": {},
   "outputs": [],
   "source": []
  },
  {
   "cell_type": "code",
   "execution_count": null,
   "id": "077b214c-7e60-4b88-8f8e-553fd849c822",
   "metadata": {},
   "outputs": [],
   "source": []
  }
 ],
 "metadata": {
  "kernelspec": {
   "display_name": "Python [conda env:cu102_v1_clone]",
   "language": "python",
   "name": "conda-env-cu102_v1_clone-py"
  },
  "language_info": {
   "codemirror_mode": {
    "name": "ipython",
    "version": 3
   },
   "file_extension": ".py",
   "mimetype": "text/x-python",
   "name": "python",
   "nbconvert_exporter": "python",
   "pygments_lexer": "ipython3",
   "version": "3.8.0"
  }
 },
 "nbformat": 4,
 "nbformat_minor": 5
}
