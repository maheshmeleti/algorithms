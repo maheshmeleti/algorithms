{
 "cells": [
  {
   "cell_type": "code",
   "execution_count": 22,
   "id": "a1c7d46c-837b-4322-a160-74b1247e6b51",
   "metadata": {},
   "outputs": [],
   "source": [
    "import time\n",
    "from collections import deque"
   ]
  },
  {
   "cell_type": "code",
   "execution_count": 25,
   "id": "357ca7c1-ed21-41a0-8f64-e51db0f0c7dd",
   "metadata": {},
   "outputs": [
    {
     "name": "stdout",
     "output_type": "stream",
     "text": [
      "0.0\n",
      "10\n",
      "True\n",
      "0.9058606624603271\n",
      "9.905860662460327\n",
      "True\n",
      "0.9159305095672607\n",
      "9.821791172027588\n",
      "True\n",
      "0.9027822017669678\n",
      "9.724573373794556\n",
      "True\n",
      "0.9131050109863281\n",
      "9.637678384780884\n",
      "True\n",
      "0.9100492000579834\n",
      "9.547727584838867\n",
      "True\n",
      "0.900773286819458\n",
      "9.448500871658325\n",
      "True\n",
      "0.9028220176696777\n",
      "9.351322889328003\n",
      "True\n",
      "0.9152154922485352\n",
      "9.266538381576538\n",
      "True\n",
      "0.9050791263580322\n",
      "9.17161750793457\n",
      "True\n",
      "0.9173290729522705\n",
      "9.08894658088684\n",
      "True\n",
      "0.904022216796875\n",
      "8.992968797683716\n",
      "True\n",
      "0.9033796787261963\n",
      "8.896348476409912\n",
      "True\n",
      "0.9015548229217529\n",
      "8.797903299331665\n",
      "True\n",
      "0.9042253494262695\n",
      "8.702128648757935\n",
      "True\n"
     ]
    }
   ],
   "source": [
    "#token bucket\n",
    "class TokenBucket:\n",
    "    def __init__(self, capacity, fill_rate):\n",
    "        self.capacity = capacity\n",
    "        self.fill_rate = fill_rate\n",
    "        self.tokens = capacity\n",
    "        self.last_time = time.time()\n",
    "    \n",
    "    def allow_request(self, tokens=1):\n",
    "        now = time.time()\n",
    "        time_passed = now - self.last_time\n",
    "        print(time_passed)\n",
    "        self.tokens = min(self.capacity, self.tokens + time_passed*self.fill_rate)\n",
    "        print(self.tokens)\n",
    "        self.last_time = now\n",
    "        \n",
    "        if self.tokens >= tokens:\n",
    "            self.tokens -= tokens\n",
    "            return True\n",
    "        return False\n",
    "\n",
    "limiter = TokenBucket(capacity=10, fill_rate=1)\n",
    "\n",
    "for _ in range(15):\n",
    "    print(limiter.allow_request())\n",
    "    time.sleep(0.9)"
   ]
  },
  {
   "cell_type": "code",
   "execution_count": 20,
   "id": "416be433-f2d7-47b2-815a-9aa64ffb1389",
   "metadata": {},
   "outputs": [],
   "source": [
    "#leaky bucket\n",
    "\n",
    "class LeakyBucket:\n",
    "    def __init__(self, capacity, leak_rate):\n",
    "        self.capacity = capacity\n",
    "        self.leak_rate = leak_rate\n",
    "        self.bucket = deque()\n",
    "        self.last_leak = time.time()\n",
    "    \n",
    "    def allow_request(self):\n",
    "        now = time.time()\n",
    "        leak_time = now - "
   ]
  },
  {
   "cell_type": "code",
   "execution_count": null,
   "id": "eb65b6c3-7404-416b-b7e4-18d1ec0a5eaa",
   "metadata": {},
   "outputs": [],
   "source": []
  },
  {
   "cell_type": "code",
   "execution_count": null,
   "id": "077b214c-7e60-4b88-8f8e-553fd849c822",
   "metadata": {},
   "outputs": [],
   "source": []
  }
 ],
 "metadata": {
  "kernelspec": {
   "display_name": "Python [conda env:cu102_v1_clone]",
   "language": "python",
   "name": "conda-env-cu102_v1_clone-py"
  },
  "language_info": {
   "codemirror_mode": {
    "name": "ipython",
    "version": 3
   },
   "file_extension": ".py",
   "mimetype": "text/x-python",
   "name": "python",
   "nbconvert_exporter": "python",
   "pygments_lexer": "ipython3",
   "version": "3.8.0"
  }
 },
 "nbformat": 4,
 "nbformat_minor": 5
}
